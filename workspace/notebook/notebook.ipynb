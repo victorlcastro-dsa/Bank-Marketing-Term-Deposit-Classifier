{
 "cells": [
  {
   "cell_type": "code",
   "execution_count": 9,
   "metadata": {},
   "outputs": [],
   "source": [
    "# Importing libraries\n",
    "try:\n",
    "    # Data manipulation and analysis\n",
    "    import pandas as pd\n",
    "    import numpy as np\n",
    "\n",
    "    # Data visualization\n",
    "    import matplotlib.pyplot as plt\n",
    "    import seaborn as sns\n",
    "\n",
    "    # Statistical analysis and machine learning\n",
    "    \n",
    "    \n",
    "    # Logging\n",
    "    import logging\n",
    "\n",
    "except ImportError as e:\n",
    "    print(f\"An error occurred while importing libraries: {e}\")"
   ]
  },
  {
   "cell_type": "code",
   "execution_count": 10,
   "metadata": {},
   "outputs": [
    {
     "name": "stdout",
     "output_type": "stream",
     "text": [
      "Data loaded successfully.\n"
     ]
    }
   ],
   "source": [
    "# Configure logging\n",
    "logging.basicConfig(level=logging.ERROR, format='%(asctime)s - %(levelname)s - %(message)s')\n",
    "\n",
    "def load_data(filepath: str) -> pd.DataFrame:\n",
    "    \"\"\"\n",
    "    Load data from a CSV file into a pandas DataFrame.\n",
    "\n",
    "    Args:\n",
    "        filepath (str): The path to the CSV file to be loaded.\n",
    "\n",
    "    Returns:\n",
    "        pd.DataFrame: A DataFrame containing the loaded data. If the file cannot be loaded due to an error,\n",
    "                      returns None and prints an error message.\n",
    "    \n",
    "    Raises:\n",
    "        FileNotFoundError: If the file at the given path does not exist.\n",
    "        pd.errors.EmptyDataError: If the file is empty or contains no data.\n",
    "        pd.errors.ParserError: If there is an error parsing the file.\n",
    "        Exception: For any other unexpected errors that occur during the file loading process.\n",
    "    \"\"\"\n",
    "    try:\n",
    "        df = pd.read_csv(filepath)\n",
    "        print(\"Data loaded successfully.\")\n",
    "        return df\n",
    "    except FileNotFoundError:\n",
    "        logging.error(\"File not found. Please check the file path.\")\n",
    "        print(\"File not found. Please check the file path.\")\n",
    "        return None\n",
    "    except pd.errors.EmptyDataError:\n",
    "        logging.error(\"No data found in the file.\")\n",
    "        print(\"No data found in the file.\")\n",
    "        return None\n",
    "    except pd.errors.ParserError:\n",
    "        logging.error(\"Error parsing the file. Please check the file format.\")\n",
    "        print(\"Error parsing the file. Please check the file format.\")\n",
    "        return None\n",
    "    except Exception as e:\n",
    "        logging.error(f\"An unexpected error occurred: {e}\")\n",
    "        print(f\"An unexpected error occurred: {e}\")\n",
    "        return None\n",
    "\n",
    "# Example usage\n",
    "df = load_data('data/Train.csv')"
   ]
  }
 ],
 "metadata": {
  "kernelspec": {
   "display_name": ".venv",
   "language": "python",
   "name": "python3"
  },
  "language_info": {
   "codemirror_mode": {
    "name": "ipython",
    "version": 3
   },
   "file_extension": ".py",
   "mimetype": "text/x-python",
   "name": "python",
   "nbconvert_exporter": "python",
   "pygments_lexer": "ipython3",
   "version": "3.11.9"
  }
 },
 "nbformat": 4,
 "nbformat_minor": 2
}
